{
 "cells": [
  {
   "cell_type": "code",
   "execution_count": 1,
   "id": "66c8f97f",
   "metadata": {},
   "outputs": [],
   "source": [
    "import sys\n",
    "import torch\n",
    "import torch.nn as nn\n",
    "import torch.optim as optim\n",
    "\n",
    "sys.path.insert(1, \"C:/users/irena/open_flamingo/\")\n",
    "\n",
    "\n",
    "def load_model(\n",
    "    checkpoint_path: str,\n",
    "    clip_vision_encoder_path: str = \"ViT-L-14\",\n",
    "    clip_vision_encoder_pretrained: str = \"openai\",\n",
    "    lang_encoder_path: str = \"anas-awadalla/mpt-1b-redpajama-200b\",\n",
    "    tokenizer_path: str = \"anas-awadalla/mpt-1b-redpajama-200b\",\n",
    "):\n",
    "    from open_flamingo import create_model_and_transforms\n",
    "\n",
    "    model, processor, tokenizer = create_model_and_transforms(\n",
    "        clip_vision_encoder_path,\n",
    "        clip_vision_encoder_pretrained,\n",
    "        lang_encoder_path,\n",
    "        tokenizer_path,\n",
    "    )\n",
    "    if checkpoint_path is not None: \n",
    "        checkpoint = torch.load(checkpoint_path, map_location=\"cpu\")\n",
    "        if \"model_state_dict\" in checkpoint:\n",
    "            checkpoint = checkpoint[\"model_state_dict\"]\n",
    "            checkpoint = {k.replace(\"module.\", \"\"): v for k, v in checkpoint.items()}\n",
    "        model.load_state_dict(checkpoint)\n",
    "    model = model.to(\"cuda\") if torch.cuda.is_available() else model\n",
    "    model.eval()\n",
    "    tokenizer.padding_side = \"left\"\n",
    "    return model, processor, tokenizer"
   ]
  },
  {
   "cell_type": "code",
   "execution_count": 4,
   "id": "b4ddcf41",
   "metadata": {},
   "outputs": [
    {
     "name": "stderr",
     "output_type": "stream",
     "text": [
      "Using pad_token, but it is not set yet.\n",
      "Explicitly passing a `revision` is encouraged when loading a configuration with custom code to ensure no malicious code has been contributed in a newer revision.\n",
      "Explicitly passing a `revision` is encouraged when loading a model with custom code to ensure no malicious code has been contributed in a newer revision.\n"
     ]
    },
    {
     "name": "stdout",
     "output_type": "stream",
     "text": [
      "You are using config.init_device='cpu', but you can also use config.init_device=\"meta\" with Composer + FSDP for fast initialization.\n",
      "Flamingo model initialized with 1046992944 trainable parameters\n"
     ]
    }
   ],
   "source": [
    "model, processor, tokenizer = load_model(None)"
   ]
  },
  {
   "cell_type": "code",
   "execution_count": null,
   "id": "19f23196",
   "metadata": {},
   "outputs": [],
   "source": []
  }
 ],
 "metadata": {
  "kernelspec": {
   "display_name": "Python 3 (ipykernel)",
   "language": "python",
   "name": "python3"
  },
  "language_info": {
   "codemirror_mode": {
    "name": "ipython",
    "version": 3
   },
   "file_extension": ".py",
   "mimetype": "text/x-python",
   "name": "python",
   "nbconvert_exporter": "python",
   "pygments_lexer": "ipython3",
   "version": "3.8.5"
  }
 },
 "nbformat": 4,
 "nbformat_minor": 5
}
